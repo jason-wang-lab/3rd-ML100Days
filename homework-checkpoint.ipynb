{
 "cells": [
  {
   "cell_type": "code",
   "execution_count": null,
   "metadata": {},
   "outputs": [],
   "source": [
    "'''電商，可以用非監督式學習的關聯原則找出商品的關聯性來制定特價策略，以及增強式學習開發無人商店，降低企業人事成本，\n",
    "線性回歸也能透過過去的資料預測未來的熱門商品，去進行開發、制定商業策略。'''"
   ]
  }
 ],
 "metadata": {
  "kernelspec": {
   "display_name": "Python 3",
   "language": "python",
   "name": "python3"
  },
  "language_info": {
   "codemirror_mode": {
    "name": "ipython",
    "version": 3
   },
   "file_extension": ".py",
   "mimetype": "text/x-python",
   "name": "python",
   "nbconvert_exporter": "python",
   "pygments_lexer": "ipython3",
   "version": "3.7.1"
  }
 },
 "nbformat": 4,
 "nbformat_minor": 2
}
